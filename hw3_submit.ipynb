{
 "cells": [
  {
   "cell_type": "code",
   "execution_count": 1,
   "metadata": {
    "colab": {
     "base_uri": "https://localhost:8080/",
     "height": 34
    },
    "colab_type": "code",
    "id": "FtYEG94mwXOd",
    "outputId": "0d95d663-5ab2-4ceb-ee19-c62708beccd2"
   },
   "outputs": [
    {
     "name": "stdout",
     "output_type": "stream",
     "text": [
      "Requirement already satisfied: cifar10_web in c:\\programdata\\anaconda3\\lib\\site-packages (0.6)\n"
     ]
    }
   ],
   "source": [
    "# 리눅스 환경에선 ! 이 부분을 지우시고 pip install cifar10_web 으로 직접 인스톨 해주세요. 2차과제때 자세히 설명해두었습니다.\n",
    "!pip install cifar10_web \n",
    "import numpy as np\n",
    "from collections import OrderedDict\n",
    "import cifar10_web\n",
    "# import matplotlib.pyplot as plt 이 부분은 맨 밑의 이미지를 확인하고 싶을 때 #을 지워서 확인해주세요.\n",
    "import pickle\n"
   ]
  },
  {
   "cell_type": "code",
   "execution_count": 2,
   "metadata": {
    "colab": {},
    "colab_type": "code",
    "id": "MW9auLbJF5cy"
   },
   "outputs": [
    {
     "name": "stdout",
     "output_type": "stream",
     "text": [
      "(50000, 3072)\n"
     ]
    }
   ],
   "source": [
    "train_images, train_labels, test_images, test_labels = cifar10_web.cifar10(path=None)\n",
    "print(train_images.shape)"
   ]
  },
  {
   "cell_type": "code",
   "execution_count": 3,
   "metadata": {
    "colab": {},
    "colab_type": "code",
    "id": "AV2P2yzBwXOk"
   },
   "outputs": [],
   "source": [
    "def im2col(input_data, filter_h, filter_w, stride=1, pad=0):\n",
    "    \"\"\"다수의 이미지를 입력받아 2차원 배열로 변환한다(평탄화).\n",
    "    \n",
    "    Parameters\n",
    "    ----------\n",
    "    input_data : 4차원 배열 형태의 입력 데이터(이미지 수, 채널 수, 높이, 너비)\n",
    "    filter_h : 필터의 높이\n",
    "    filter_w : 필터의 너비\n",
    "    stride : 스트라이드\n",
    "    pad : 패딩\n",
    "    \n",
    "    Returns\n",
    "    -------\n",
    "    col : 2차원 배열\n",
    "    \"\"\"\n",
    "    N, C, H, W = input_data.shape\n",
    "    out_h = (H + 2*pad - filter_h)//stride + 1\n",
    "    out_w = (W + 2*pad - filter_w)//stride + 1\n",
    "\n",
    "    img = np.pad(input_data, [(0,0), (0,0), (pad, pad), (pad, pad)], 'constant')\n",
    "    col = np.zeros((N, C, filter_h, filter_w, out_h, out_w))\n",
    "\n",
    "    for y in range(filter_h):\n",
    "        y_max = y + stride*out_h\n",
    "        for x in range(filter_w):\n",
    "            x_max = x + stride*out_w\n",
    "            col[:, :, y, x, :, :] = img[:, :, y:y_max:stride, x:x_max:stride]\n",
    "\n",
    "    col = col.transpose(0, 4, 5, 1, 2, 3).reshape(N*out_h*out_w, -1)\n",
    "    return col"
   ]
  },
  {
   "cell_type": "code",
   "execution_count": 4,
   "metadata": {},
   "outputs": [],
   "source": [
    "def load_params(ShallowCNN, file_name=\"params3rd.pkl\"):\n",
    "    with open(file_name, 'rb') as f:\n",
    "        values = pickle.load(f)\n",
    "  \n",
    "    for key, val in ShallowCNN.layers.items():\n",
    "        if key in values.keys():\n",
    "            W, b = values[key]\n",
    "            ShallowCNN.layers[key].W = W\n",
    "            ShallowCNN.layers[key].b = b      \n",
    "    \n",
    "  "
   ]
  },
  {
   "cell_type": "code",
   "execution_count": 5,
   "metadata": {
    "colab": {},
    "colab_type": "code",
    "id": "XoywdupawXOm"
   },
   "outputs": [],
   "source": [
    "def col2im(col, input_shape, filter_h, filter_w, stride=1, pad=0):\n",
    "    \"\"\"(im2col과 반대) 2차원 배열을 입력받아 다수의 이미지 묶음으로 변환한다.\n",
    "    \n",
    "    Parameters\n",
    "    ----------\n",
    "    col : 2차원 배열(입력 데이터)\n",
    "    input_shape : 원래 이미지 데이터의 형상（예：(10, 1, 28, 28)）\n",
    "    filter_h : 필터의 높이\n",
    "    filter_w : 필터의 너비\n",
    "    stride : 스트라이드\n",
    "    pad : 패딩\n",
    "    \n",
    "    Returns\n",
    "    -------\n",
    "    img : 변환된 이미지들\n",
    "    \"\"\"\n",
    "    N, C, H, W = input_shape\n",
    "    out_h = (H + 2*pad - filter_h)//stride + 1\n",
    "    out_w = (W + 2*pad - filter_w)//stride + 1\n",
    "    col = col.reshape(N, out_h, out_w, C, filter_h, filter_w).transpose(0, 3, 4, 5, 1, 2)\n",
    "\n",
    "    img = np.zeros((N, C, H + 2*pad + stride - 1, W + 2*pad + stride - 1))\n",
    "    for y in range(filter_h):\n",
    "        y_max = y + stride*out_h\n",
    "        for x in range(filter_w):\n",
    "            x_max = x + stride*out_w\n",
    "            img[:, :, y:y_max:stride, x:x_max:stride] += col[:, :, y, x, :, :]\n",
    "\n",
    "    return img[:, :, pad:H + pad, pad:W + pad]"
   ]
  },
  {
   "cell_type": "code",
   "execution_count": 6,
   "metadata": {
    "colab": {},
    "colab_type": "code",
    "id": "dCqzzntRwXOh"
   },
   "outputs": [],
   "source": [
    "class LinearLayer:\n",
    "    def __init__(self, W, b):\n",
    "        self.W = W\n",
    "        self.b = b\n",
    "        self.dW = None\n",
    "        self.db = None\n",
    "        self.X = None\n",
    "    \n",
    "    def forward(self, x):\n",
    "        self.OrX = x.shape\n",
    "        x = x.reshape(x.shape[0], -1)\n",
    "            \n",
    "        self.X = x\n",
    "\n",
    "        Z = np.dot(self.X, self.W) + self.b\n",
    "        return Z\n",
    "        \n",
    "    def backward(self, dout):\n",
    "        self.dW = np.dot(self.X.T, dout)\n",
    "        self.db = np.sum(dout, axis=0)\n",
    "        dx = np.dot(dout, self.W.T)\n",
    "        \n",
    "        dx = dx.reshape(*self.OrX)\n",
    "    \n",
    "        return dx"
   ]
  },
  {
   "cell_type": "code",
   "execution_count": 7,
   "metadata": {
    "colab": {},
    "colab_type": "code",
    "id": "OwhMT6O0wXOo"
   },
   "outputs": [],
   "source": [
    "class Convolution:\n",
    "    \n",
    "    def __init__(self, W, b, stride=1, pad=0):\n",
    "        \n",
    "        ''' \n",
    "        Convolution Layer i의 모든 필터의 Weight를 저장. shape[0]은 필터의 개수 shape[1]은 Channel의 개수 \n",
    "        Shape[2]는 필터의 높이 shape[3]은 필터의 가로\n",
    "        '''\n",
    "        \n",
    "        self.W = W\n",
    "        \n",
    "        '''\n",
    "        bias는 각 filter마다 1개만 있으면 되기에 (FN, 1, 1, 1)의 shape를 가진다.\n",
    "        '''\n",
    "\n",
    "        self.b = b\n",
    "   \n",
    "        self.stride = stride\n",
    "        self.pad = pad\n",
    "        \n",
    "    def forward(self, x):\n",
    "        '''\n",
    "        FN, C, FH, FW에 Filter W의 shape를 저장\n",
    "        '''\n",
    "        (FN, C, FH, FW) = self.W.shape\n",
    "        '''\n",
    "        input data x 또한 4차원의 데이터이다. N은 데이터의 개수 C는 채널의 개수 H, W 는 Height, Width\n",
    "        \n",
    "        '''\n",
    "        (N, C, H, W) = x.shape\n",
    "        \n",
    "        out_h = int(1+ (H+2*self.pad - FH) / self.stride)\n",
    "        out_W = int(1+ (W+2*self.pad - FW) / self.stride)\n",
    "        \n",
    "        ''' \n",
    "        데이터를 2차원으로 바꾸어서 np.dot 연산으로 한 번에 연산을 가능하게 함\n",
    "        '''\n",
    "        col = im2col(x, FH, FW, self.stride, self.pad) \n",
    "    \n",
    "        ''' \n",
    "        필터를 2차원으로 바꾸어서 np.dot 연산으로 한 번에 연산을 가능하게 함\n",
    "        '''\n",
    "        col_W = self.W.reshape(FN, -1).T #필터의 전개\n",
    "        out = np.dot(col, col_W)\n",
    "        out = out.reshape(N, out_h, out_W, -1).transpose(0, 3, 1, 2)\n",
    "        \n",
    "        self.x = x\n",
    "        self.col = col\n",
    "        self.col_W = col_W\n",
    "        \n",
    "        return out\n",
    "    \n",
    "    \n",
    "    def backward(self, dout):\n",
    "        \n",
    "        FN, C, FH, FW = self.W.shape\n",
    "        dout = dout.transpose(0, 2, 3, 1).reshape(-1, FN)\n",
    "        \n",
    "        self.db = np.sum(dout, axis=0)\n",
    "        self.dW = np.dot(self.col.T, dout)\n",
    "        self.dW = self.dW.transpose(1, 0).reshape(FN, C, FH, FW)\n",
    "\n",
    "        dcol = np.dot(dout, self.col_W.T)\n",
    "        dx = col2im(dcol, self.x.shape, FH, FW, self.stride, self.pad)\n",
    "        \n",
    "        return dx\n",
    "\n",
    "        "
   ]
  },
  {
   "cell_type": "code",
   "execution_count": 8,
   "metadata": {
    "colab": {},
    "colab_type": "code",
    "id": "AtgDDEIQwXOq"
   },
   "outputs": [],
   "source": [
    "#Convolution Layer 사용 예시\n",
    "#filter개수 4개, filter channel 3 filter H \n",
    "W = np.random.randn(4, 3, 3, 3) \n",
    "b = np.random.randn(2, 1, 1, 1)\n",
    "con1 = Convolution(W, b, stride=1, pad=1)"
   ]
  },
  {
   "cell_type": "code",
   "execution_count": 9,
   "metadata": {
    "colab": {},
    "colab_type": "code",
    "id": "xxDEw0ZswXOu"
   },
   "outputs": [],
   "source": [
    "class Pooling:\n",
    "    def __init__(self, pool_size, stride=1, pad=0):\n",
    "        self.pool_h = pool_size\n",
    "        self.pool_w = pool_size\n",
    "        self.stride = stride\n",
    "        self.pad = pad\n",
    "        \n",
    "        self.x = None\n",
    "        self.arg_max = None\n",
    "\n",
    "    def forward(self, x):\n",
    "        N, C, H, W = x.shape\n",
    "        out_h = int(1 + (H - self.pool_h) / self.stride)\n",
    "        out_w = int(1 + (W - self.pool_w) / self.stride)\n",
    "\n",
    "        col = im2col(x, self.pool_h, self.pool_w, self.stride, self.pad)\n",
    "        col = col.reshape(-1, self.pool_h*self.pool_w)\n",
    "\n",
    "        arg_max = np.argmax(col, axis=1)\n",
    "        out = np.max(col, axis=1)\n",
    "        out = out.reshape(N, out_h, out_w, C).transpose(0, 3, 1, 2)\n",
    "\n",
    "        self.x = x\n",
    "        self.arg_max = arg_max\n",
    "\n",
    "        return out\n",
    "\n",
    "    def backward(self, dout):\n",
    "        dout = dout.transpose(0, 2, 3, 1)\n",
    "        \n",
    "        pool_size = self.pool_h * self.pool_w\n",
    "        dmax = np.zeros((dout.size, pool_size))\n",
    "        dmax[np.arange(self.arg_max.size), self.arg_max.flatten()] = dout.flatten()\n",
    "        dmax = dmax.reshape(dout.shape + (pool_size,)) \n",
    "        \n",
    "        dcol = dmax.reshape(dmax.shape[0] * dmax.shape[1] * dmax.shape[2], -1)\n",
    "        dx = col2im(dcol, self.x.shape, self.pool_h, self.pool_w, self.stride, self.pad)\n",
    "        \n",
    "        return dx"
   ]
  },
  {
   "cell_type": "code",
   "execution_count": 10,
   "metadata": {
    "colab": {},
    "colab_type": "code",
    "id": "MpwO34oKwXOw"
   },
   "outputs": [],
   "source": [
    "class ReLU:\n",
    "    def __init__(self):\n",
    "        self.Z = None\n",
    "        \n",
    "    \n",
    "    def forward(self, Z):\n",
    "        self.Z = Z\n",
    "        self.mask = (Z<0)\n",
    "        A = Z.copy()\n",
    "        A[self.mask] = 0\n",
    "        \n",
    "        return A\n",
    "    \n",
    "    def backward(self, dout):\n",
    "        dA = dout\n",
    "        dA[self.mask] = 0\n",
    "        \n",
    "        return dA\n",
    "    "
   ]
  },
  {
   "cell_type": "code",
   "execution_count": 11,
   "metadata": {
    "colab": {},
    "colab_type": "code",
    "id": "v4NGEepwF5dF"
   },
   "outputs": [],
   "source": [
    "def softmax(x):\n",
    "    if x.ndim == 2:\n",
    "        x = x.T\n",
    "        x = x - np.max(x, axis=0)\n",
    "        y = np.exp(x) / np.sum(np.exp(x), axis=0)\n",
    "        return y.T \n",
    "\n",
    "    x = x - np.max(x) # 오버플로 대책\n",
    "    return np.exp(x) / np.sum(np.exp(x))\n"
   ]
  },
  {
   "cell_type": "code",
   "execution_count": 12,
   "metadata": {
    "colab": {},
    "colab_type": "code",
    "id": "viEfy4ruF5dH"
   },
   "outputs": [],
   "source": [
    "class SoftmaxWithLoss:\n",
    "    def __init__(self):\n",
    "        self.loss = None # 손실함수\n",
    "        self.y = None    # softmax의 출력\n",
    "        self.t = None    # 정답 레이블(원-핫 인코딩 형태)\n",
    "        \n",
    "    def forward(self, x, t):\n",
    "        self.t = t\n",
    "        self.y = softmax(x)\n",
    "        self.loss = -np.sum(self.t * np.log(self.y + 1e-6))/ x.shape[0]\n",
    "        \n",
    "        return self.loss\n",
    "\n",
    "    def backward(self, dout=1):\n",
    "        batch_size = self.t.shape[0]\n",
    "        if self.t.size == self.y.size: # 정답 레이블이 원-핫 인코딩 형태일 때\n",
    "            dx = (self.y - self.t) / batch_size\n",
    "        else:\n",
    "            dx = self.y.copy()\n",
    "            dx[np.arange(batch_size), self.t] -= 1\n",
    "            dx = dx / batch_size\n",
    "        \n",
    "        return dx"
   ]
  },
  {
   "cell_type": "code",
   "execution_count": 13,
   "metadata": {
    "colab": {},
    "colab_type": "code",
    "id": "Nr-iso4pwXO8"
   },
   "outputs": [],
   "source": [
    "def filterParamSet(filter_num , filter_size, filter_channel, prev_filter_num=1):\n",
    "    #그 필터에 해당하는 Weight와 bias 생성 간단하게 0.01로 초기화\n",
    "    filterWeight =0*np.random.randn(filter_num, filter_channel, filter_size, filter_size) * np.sqrt(2/(filter_size*filter_size*filter_num))\n",
    "    filterbias = np.zeros(filter_num)\n",
    "    \n",
    "    return filterWeight, filterbias "
   ]
  },
  {
   "cell_type": "code",
   "execution_count": 14,
   "metadata": {
    "colab": {},
    "colab_type": "code",
    "id": "NeMXfm_zF5dM"
   },
   "outputs": [],
   "source": [
    "def fullLayerParamSet(input_n, output_n):\n",
    "    #해당 fullLayer에 해당하는 Weight와 bias 생성\n",
    "    full_W = np.random.randn(input_n, output_n) * np.sqrt(2/input_n)\n",
    "    full_b = np.zeros([1, output_n])\n",
    "    return full_W, full_b"
   ]
  },
  {
   "cell_type": "code",
   "execution_count": 15,
   "metadata": {
    "colab": {},
    "colab_type": "code",
    "id": "5ILlpyxgF5dO"
   },
   "outputs": [],
   "source": [
    "def Convolution_Layers_set(ConvLayerlist):\n",
    "    Convolution_Layers = OrderedDict()\n",
    "    \"\"\"\n",
    "    ConvLayerList[0] = Convolution이면 'C' Pooling이면 'P'\n",
    "    ConvLayerList[1] = Convolution이면 'filter의 개수(filter_num)' Pooling이면 'filter_size'\n",
    "    ConvLayerList[2] = Convolution이면 'filter의 크기(filter_size)' Pooling이면 'stride'\n",
    "    ConvLayerList[3] = Convolution이면 'filter의 채널(filter_channel)' Pooling이면 'pad'\n",
    "    ConvLayerList[4] = Convolution이면 'stride'\n",
    "    ConvLayerList[5] = Convolution이면 'pad'\n",
    "    \"\"\"\n",
    "\n",
    "    for i in range(len(ConvLayerlist)):\n",
    "        if ConvLayerlist[i][0] == 'C':\n",
    "            C_Weight, C_bias = filterParamSet(ConvLayerlist[i][1], ConvLayerlist[i][2], ConvLayerlist[i][3])\n",
    "            Convolution_Layers['C'+str(i+1)] = Convolution(C_Weight, C_bias, ConvLayerlist[i][4], ConvLayerlist[i][5])\n",
    "        elif ConvLayerlist[i][0] == 'P':\n",
    "            Convolution_Layers['P'+str(i+1)] = Pooling(ConvLayerlist[i][1], ConvLayerlist[i][2], ConvLayerlist[i][3])\n",
    "            \n",
    "    return Convolution_Layers"
   ]
  },
  {
   "cell_type": "code",
   "execution_count": 16,
   "metadata": {
    "colab": {
     "base_uri": "https://localhost:8080/",
     "height": 69
    },
    "colab_type": "code",
    "id": "7WAvoG4MF5dS",
    "outputId": "aa6fa408-7309-4761-b117-59b5eec60c29"
   },
   "outputs": [
    {
     "data": {
      "text/plain": [
       "OrderedDict([('C1', <__main__.Convolution at 0x21a7daf6860>),\n",
       "             ('C2', <__main__.Convolution at 0x21a7daf6048>),\n",
       "             ('P3', <__main__.Pooling at 0x21a7daf2320>)])"
      ]
     },
     "execution_count": 16,
     "metadata": {},
     "output_type": "execute_result"
    }
   ],
   "source": [
    "#사용 예시\n",
    "\"\"\"\n",
    "\n",
    "layer 1은 Convolution으로 filter의 개수는 5개 filter의 크기는 4(4*4), filter의 channel은 3 stride =2 pad =2\n",
    "layer 2은 Convolution으로 filter의 개수는 3개 filter의 크기는 2(2*2), filter의 channel은 5 stride =2 pad =1\n",
    "layer 3은 Polling으로 filter의 size는 2 filter의 stride=2 filter의 pad=2\n",
    "\n",
    "이 3개로 Convolution_Layers 를 만들었다는 가정\n",
    "\"\"\"\n",
    "layerlist = [['C', 5, 4, 3, 2, 2], ['C', 3, 2, 5, 2, 1], ['P', 2, 2, 2]]\n",
    "conv_layer_dim = Convolution_Layers_set(layerlist)\n",
    "conv_layer_dim"
   ]
  },
  {
   "cell_type": "markdown",
   "metadata": {},
   "source": [
    "OrderedDict([('C1', <__main__.Convolution at 0x2935be7a828>),\n",
    "             ('C2', <__main__.Convolution at 0x2935be7a710>),\n",
    "             ('P3', <__main__.Pooling at 0x2935be7a7b8>)])"
   ]
  },
  {
   "cell_type": "code",
   "execution_count": 17,
   "metadata": {
    "colab": {},
    "colab_type": "code",
    "id": "DGtPUtOZF5dT"
   },
   "outputs": [],
   "source": [
    "def FullyConnected_Layers_set(FullyConnectedLayerlist):\n",
    "    FullyConnected_layers = OrderedDict()\n",
    "\n",
    "    for i in range(len(FullyConnectedLayerlist)):\n",
    "        full_W, full_b = fullLayerParamSet(FullyConnectedLayerlist[i][0], FullyConnectedLayerlist[i][1])\n",
    "        FullyConnected_layers['F'+str(i+1)] = LinearLayer(full_W, full_b)\n",
    "    \n",
    "    return FullyConnected_layers"
   ]
  },
  {
   "cell_type": "code",
   "execution_count": 18,
   "metadata": {
    "colab": {
     "base_uri": "https://localhost:8080/",
     "height": 52
    },
    "colab_type": "code",
    "id": "SqMOUcyMF5dV",
    "outputId": "6124f847-bc0a-48f0-8b7e-ed82fb0856ac"
   },
   "outputs": [
    {
     "data": {
      "text/plain": [
       "OrderedDict([('F1', <__main__.LinearLayer at 0x21a7dad8f28>),\n",
       "             ('F2', <__main__.LinearLayer at 0x21a7dad8940>)])"
      ]
     },
     "execution_count": 18,
     "metadata": {},
     "output_type": "execute_result"
    }
   ],
   "source": [
    "#사용 예시\n",
    "layerlist2 = [[160, 50], [50, 10]]\n",
    "full_layer_dim = FullyConnected_Layers_set(layerlist2)\n",
    "full_layer_dim"
   ]
  },
  {
   "cell_type": "markdown",
   "metadata": {},
   "source": [
    "OrderedDict([('F1', <__main__.LinearLayer at 0x2935be7aba8>),\n",
    "             ('F2', <__main__.LinearLayer at 0x2935be7a1d0>)])"
   ]
  },
  {
   "cell_type": "code",
   "execution_count": 19,
   "metadata": {
    "colab": {},
    "colab_type": "code",
    "id": "4CPhIA2kwXO-"
   },
   "outputs": [],
   "source": [
    "class ShallowCNN:\n",
    "    \n",
    "    def __init__(self, ConvLayerlist, FullLayerlist):\n",
    "        np.random.seed(1)\n",
    "        self.Convolution_Layers = Convolution_Layers_set(ConvLayerlist)\n",
    "        self.FC_Layers = FullyConnected_Layers_set(FullLayerlist)\n",
    "        self.layers = OrderedDict()\n",
    "        self.i = 0\n",
    "        \n",
    "        for layer in self.Convolution_Layers.values():\n",
    "            self.i = self.i+1\n",
    "            if(type(layer) ==Convolution):\n",
    "                self.layers['C'+str(self.i)] = layer\n",
    "                self.layers['R'+str(self.i)] = ReLU()\n",
    "            elif(type(layer)==Pooling):\n",
    "                self.layers['P'+str(self.i)] = layer\n",
    "            else:\n",
    "                print(\"이상한게 들어왔네요\")\n",
    "            \n",
    "        for layer in self.FC_Layers.values():\n",
    "            self.i = self.i+1\n",
    "            self.layers['F'+str(self.i)] = layer\n",
    "            self.layers['R'+str(self.i)] = ReLU()\n",
    "            \n",
    "        \n",
    "        last_f_w, last_f_b = np.random.randn(10, 10)*0.01, np.zeros([1,10])\n",
    "        self.i = self.i+1\n",
    "        self.layers['F'+str(self.i)] = LinearLayer(last_f_w, last_f_b)\n",
    "        self.lastlayer = SoftmaxWithLoss()\n",
    "        \n",
    "    #Score를 구하는 함수    \n",
    "    def Score(self, x):\n",
    "        self.x = x\n",
    "        for layer in self.layers.values():\n",
    "            x = layer.forward(x)\n",
    "            \n",
    "        return x\n",
    "    \n",
    "    #Loss를 구하는 함수\n",
    "    def forward(self, x, t):\n",
    "        y = self.Score(x)\n",
    "        loss = self.lastlayer.forward(y, t)\n",
    "        return loss\n",
    "    \n",
    "        \n",
    "    \"\"\"\n",
    "    구현하세요\n",
    "    backpropagation에서 각 Convolution과 LinearLayer의 W를  업데이트 해주셔야 합니다.\n",
    "    \"\"\"\n",
    "    def backpropagation(self, learning_rate): \n",
    "        dx = self.lastlayer.backward()\n",
    "        self.layers = OrderedDict(reversed(list(self.layers.items())))\n",
    "        \n",
    "        self.layers\n",
    "        \n",
    "        for backlayer in self.layers.values():\n",
    "            dx = backlayer.backward(dx)\n",
    "        \n",
    "        grads = {}\n",
    "        grads['CW1'] = self.layers['C1'].dW\n",
    "        grads['CB1'] = self.layers['C1'].db\n",
    "        grads['CW2'] = self.layers['C2'].dW\n",
    "        grads['CB2'] = self.layers['C2'].db\n",
    "        grads['CW4'] = self.layers['C4'].dW\n",
    "        grads['CB4'] = self.layers['C4'].db\n",
    "        grads['FW6'] = self.layers['F6'].dW\n",
    "        grads['FB6'] = self.layers['F6'].db\n",
    "        grads['FW7'] = self.layers['F7'].dW\n",
    "        grads['FB7'] = self.layers['F7'].db\n",
    "        \n",
    "        self.layers['C1'].W -= self.layers['C1'].dW*learning_rate\n",
    "        self.layers['C1'].b -= self.layers['C1'].db*learning_rate\n",
    "        self.layers['C2'].W -= self.layers['C2'].dW*learning_rate\n",
    "        self.layers['C2'].b -= self.layers['C2'].db*learning_rate\n",
    "        self.layers['C4'].W -= self.layers['C4'].dW*learning_rate\n",
    "        self.layers['C4'].b -= self.layers['C4'].db*learning_rate\n",
    "        self.layers['F6'].W -= self.layers['F6'].dW*learning_rate\n",
    "        self.layers['F6'].b -= self.layers['F6'].db*learning_rate\n",
    "        self.layers['F7'].W -= self.layers['F7'].dW*learning_rate\n",
    "        self.layers['F7'].b -= self.layers['F7'].db*learning_rate\n",
    "        self.layers['F8'].W -= self.layers['F8'].dW*learning_rate\n",
    "        self.layers['F8'].b -= self.layers['F8'].db*learning_rate\n",
    "        \n",
    "        self.layers = OrderedDict(reversed(list(self.layers.items())))\n",
    "\n",
    "        return grads\n",
    "\n",
    "    def accuracy(self, x, t, batch_size=100):\n",
    "        if t.ndim != 1 : t = np.argmax(t, axis=1)\n",
    "        \n",
    "        acc = 0.0\n",
    "        \n",
    "        for i in range(int(x.shape[0] / batch_size)):\n",
    "            tx = x[i*batch_size:(i+1)*batch_size]\n",
    "            tt = t[i*batch_size:(i+1)*batch_size]\n",
    "            y = self.Score(tx)\n",
    "            y = np.argmax(y, axis=1)\n",
    "            acc += np.sum(y == tt) \n",
    "        \n",
    "        return acc / x.shape[0]\n",
    "      \n",
    "      \n"
   ]
  },
  {
   "cell_type": "code",
   "execution_count": 20,
   "metadata": {
    "colab": {},
    "colab_type": "code",
    "id": "XuN2YsGMF5da"
   },
   "outputs": [],
   "source": [
    "ConvLayerlist = [['C',20,5,3,2,2],['C',20,3,20,1,1],['P',2,2,0],['C',20,1,20,1,0],['P',2,2,0]]\n",
    "\"\"\"\n",
    "    ConvLayerList[0] = Convolution이면 'C' Pooling이면 'P'\n",
    "    ConvLayerList[1] = Convolution이면 'filter의 개수(filter_num)' Pooling이면 'filter_size'\n",
    "    ConvLayerList[2] = Convolution이면 'filter의 크기(filter_size)' Pooling이면 'stride'\n",
    "    ConvLayerList[3] = Convolution이면 'filter의 채널(filter_channel)' Pooling이면 'pad'\n",
    "    ConvLayerList[4] = Convolution이면 'stride'\n",
    "    ConvLayerList[5] = Convolution이면 'pad'\n",
    "    \"\"\"\n",
    "\n",
    "FullLayerlist = [[4800,50],[50,10]]\n",
    "\n",
    "SCNN = ShallowCNN(ConvLayerlist, FullLayerlist)\n",
    "load_params(SCNN)"
   ]
  },
  {
   "cell_type": "code",
   "execution_count": 21,
   "metadata": {
    "colab": {},
    "colab_type": "code",
    "id": "c11o5F6OodXb"
   },
   "outputs": [],
   "source": [
    "train_input_x=train_images.reshape(50000, 3 ,32, 32)\n",
    "\n",
    "minibatch_data = train_input_x[:5000, :, :, :]\n",
    "minibatch_label = train_labels[:5000, :]"
   ]
  },
  {
   "cell_type": "code",
   "execution_count": 22,
   "metadata": {
    "colab": {
     "base_uri": "https://localhost:8080/",
     "height": 594
    },
    "colab_type": "code",
    "id": "nzHgYTLYF5db",
    "outputId": "262b82f1-326c-46fe-e83f-af8d16b94592"
   },
   "outputs": [
    {
     "data": {
      "text/plain": [
       "'\\n#미리 트레이닝한 params3rd.pkl는 이 트레이닝의 결과값을 넣었습니다.\\nfor i in range(101):\\n  np.random.seed(i)\\n  perm = np.random.permutation(minibatch_data.shape[0])\\n  mini_x = minibatch_data[perm,:] if minibatch_data.ndim == 2 else minibatch_data[perm,:,:,:]\\n  mini_label2 = minibatch_label[perm]\\n  batch_size = 100\\n  for m in range(50): # mini_x.shape[0] / batch_size\\n    \\n    Loss = SCNN.forward(mini_x[m*batch_size:(m+1)*batch_size], mini_label2[m*batch_size:(m+1)*batch_size])\\n    grads = SCNN.backpropagation(learning_rate=0.1)\\n  if i%10==0:\\n    print(Loss)\\n    print(SCNN.accuracy(minibatch_data, minibatch_label))\\n    print(i)\\n'"
      ]
     },
     "execution_count": 22,
     "metadata": {},
     "output_type": "execute_result"
    }
   ],
   "source": [
    "\"\"\"\n",
    "#미리 트레이닝한 params3rd.pkl는 이 트레이닝의 결과값을 넣었습니다.\n",
    "for i in range(101):\n",
    "  np.random.seed(i)\n",
    "  perm = np.random.permutation(minibatch_data.shape[0])\n",
    "  mini_x = minibatch_data[perm,:] if minibatch_data.ndim == 2 else minibatch_data[perm,:,:,:]\n",
    "  mini_label2 = minibatch_label[perm]\n",
    "  batch_size = 100\n",
    "  for m in range(50): # mini_x.shape[0] / batch_size\n",
    "    \n",
    "    Loss = SCNN.forward(mini_x[m*batch_size:(m+1)*batch_size], mini_label2[m*batch_size:(m+1)*batch_size])\n",
    "    grads = SCNN.backpropagation(learning_rate=0.1)\n",
    "  if i%10==0:\n",
    "    print(Loss)\n",
    "    print(SCNN.accuracy(minibatch_data, minibatch_label))\n",
    "    print(i)\n",
    "\"\"\""
   ]
  },
  {
   "cell_type": "code",
   "execution_count": 23,
   "metadata": {
    "colab": {
     "base_uri": "https://localhost:8080/",
     "height": 34
    },
    "colab_type": "code",
    "id": "Q3FxHo4OjIQ7",
    "outputId": "946b6b2d-47bc-45f4-d9dc-7134b7f98133"
   },
   "outputs": [
    {
     "data": {
      "text/plain": [
       "0.4345"
      ]
     },
     "execution_count": 23,
     "metadata": {},
     "output_type": "execute_result"
    }
   ],
   "source": [
    "test2_images =test_images.reshape(-1, 3, 32, 32)\n",
    "SCNN.accuracy(test2_images, test_labels)"
   ]
  },
  {
   "cell_type": "code",
   "execution_count": 24,
   "metadata": {
    "colab": {
     "base_uri": "https://localhost:8080/",
     "height": 104
    },
    "colab_type": "code",
    "id": "9JcIQCNkJ4w4",
    "outputId": "d4625eac-e9df-4fff-f04b-90dd0891b11d"
   },
   "outputs": [
    {
     "name": "stdout",
     "output_type": "stream",
     "text": [
      "0 번의 Test Accuracy : 0.4406\n",
      "1 번의 Test Accuracy : 0.4414\n",
      "2 번의 Test Accuracy : 0.4399\n",
      "3 번의 Test Accuracy : 0.44\n",
      "4 번의 Test Accuracy : 0.4384\n"
     ]
    }
   ],
   "source": [
    "for i in range(5):\n",
    "    loss = SCNN.forward(train_input_x[i*100:(i+1)*100], train_labels[i*100:(i+1)*100])\n",
    "    grads = SCNN.backpropagation(0.1)\n",
    "    print(i,\"번의 Test Accuracy :\", SCNN.accuracy(test2_images, test_labels))"
   ]
  },
  {
   "cell_type": "code",
   "execution_count": 25,
   "metadata": {
    "colab": {},
    "colab_type": "code",
    "id": "n5_f-lhAirXZ"
   },
   "outputs": [
    {
     "data": {
      "text/plain": [
       "'\\n#Cifar10 이미지를 plt로 보여주는 코드\\ntest3_images = test2_images.transpose(0, 2, 3, 1)\\nfig, axes1 = plt.subplots(5, 5, figsize=(10, 10))\\nfor j in range(5):\\n    for k in range(5):\\n        i = np.random.choice(range(len(test_images)))\\n        axes1[j][k].set_axis_off()\\n        axes1[j][k].imshow(test3_images[i:i+1][0])\\n        axes1[j][k].set_title(np.argmax(test_labels[i]))\\n        \\n'"
      ]
     },
     "execution_count": 25,
     "metadata": {},
     "output_type": "execute_result"
    }
   ],
   "source": [
    "\"\"\"\n",
    "#Cifar10 이미지를 plt로 보여주는 코드\n",
    "test3_images = test2_images.transpose(0, 2, 3, 1)\n",
    "fig, axes1 = plt.subplots(5, 5, figsize=(10, 10))\n",
    "for j in range(5):\n",
    "    for k in range(5):\n",
    "        i = np.random.choice(range(len(test_images)))\n",
    "        axes1[j][k].set_axis_off()\n",
    "        axes1[j][k].imshow(test3_images[i:i+1][0])\n",
    "        axes1[j][k].set_title(np.argmax(test_labels[i]))\n",
    "        \n",
    "\"\"\"\n"
   ]
  },
  {
   "cell_type": "code",
   "execution_count": 26,
   "metadata": {
    "colab": {},
    "colab_type": "code",
    "id": "AR3bbbWx9gsm"
   },
   "outputs": [
    {
     "data": {
      "text/plain": [
       "15"
      ]
     },
     "execution_count": 26,
     "metadata": {},
     "output_type": "execute_result"
    }
   ],
   "source": [
    "31//2"
   ]
  },
  {
   "cell_type": "code",
   "execution_count": null,
   "metadata": {
    "colab": {},
    "colab_type": "code",
    "id": "iBmfr7zR-HrX"
   },
   "outputs": [],
   "source": []
  },
  {
   "cell_type": "code",
   "execution_count": null,
   "metadata": {
    "colab": {},
    "colab_type": "code",
    "id": "UGAbuWV1PNCy"
   },
   "outputs": [],
   "source": []
  }
 ],
 "metadata": {
  "accelerator": "TPU",
  "colab": {
   "collapsed_sections": [],
   "name": "3rd_Shallow_CNN.ipynb",
   "provenance": [],
   "version": "0.3.2"
  },
  "kernelspec": {
   "display_name": "Python 3",
   "language": "python",
   "name": "python3"
  },
  "language_info": {
   "codemirror_mode": {
    "name": "ipython",
    "version": 3
   },
   "file_extension": ".py",
   "mimetype": "text/x-python",
   "name": "python",
   "nbconvert_exporter": "python",
   "pygments_lexer": "ipython3",
   "version": "3.7.3"
  }
 },
 "nbformat": 4,
 "nbformat_minor": 1
}
